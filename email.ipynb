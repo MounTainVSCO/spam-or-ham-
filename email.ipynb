{
 "cells": [
  {
   "cell_type": "code",
   "execution_count": 615,
   "metadata": {},
   "outputs": [],
   "source": [
    "import pandas as pd\n",
    "import numpy as np\n",
    "import string\n",
    "from sklearn.feature_extraction.text import CountVectorizer\n",
    "from sklearn.svm import SVC\n",
    "from sklearn.metrics import accuracy_score, precision_score, recall_score\n",
    "from sklearn.model_selection import train_test_split, GridSearchCV\n",
    "from sklearn.metrics import confusion_matrix\n",
    "\n",
    "pd.set_option('display.max_colwidth', None)"
   ]
  },
  {
   "cell_type": "code",
   "execution_count": 616,
   "metadata": {},
   "outputs": [],
   "source": [
    "email_df = pd.read_csv('spamassasin.csv')"
   ]
  },
  {
   "cell_type": "code",
   "execution_count": 617,
   "metadata": {},
   "outputs": [
    {
     "data": {
      "text/plain": [
       "(6046, 3)"
      ]
     },
     "execution_count": 617,
     "metadata": {},
     "output_type": "execute_result"
    }
   ],
   "source": [
    "email_df.shape"
   ]
  },
  {
   "attachments": {},
   "cell_type": "markdown",
   "metadata": {},
   "source": [
    "- Dropped one row due to body missing"
   ]
  },
  {
   "cell_type": "code",
   "execution_count": 618,
   "metadata": {},
   "outputs": [
    {
     "data": {
      "text/plain": [
       "Unnamed: 0    0\n",
       "Body          1\n",
       "Label         0\n",
       "dtype: int64"
      ]
     },
     "execution_count": 618,
     "metadata": {},
     "output_type": "execute_result"
    }
   ],
   "source": [
    "email_df.isnull().sum()"
   ]
  },
  {
   "cell_type": "code",
   "execution_count": 619,
   "metadata": {},
   "outputs": [
    {
     "data": {
      "text/plain": [
       "Unnamed: 0    0\n",
       "Body          0\n",
       "Label         0\n",
       "dtype: int64"
      ]
     },
     "execution_count": 619,
     "metadata": {},
     "output_type": "execute_result"
    }
   ],
   "source": [
    "email_df.dropna(subset=['Body'], inplace=True)\n",
    "email_df.isnull().sum()"
   ]
  },
  {
   "attachments": {},
   "cell_type": "markdown",
   "metadata": {},
   "source": [
    "- Looking at the email body's"
   ]
  },
  {
   "cell_type": "code",
   "execution_count": 620,
   "metadata": {},
   "outputs": [
    {
     "data": {
      "text/plain": [
       "\"##################################################\\r\\n#                                                #\\r\\n#                 Adult Club                     #\\r\\n#           Offers FREE Membership               #\\r\\n#                                                #\\r\\n##################################################>>>>>  INSTANT ACCESS TO ALL SITES NOW\\r\\n>>>>>  Your User Name And Password is.\\r\\n>>>>>  User Name: zzzz@spamassassin.taint.org\\r\\n>>>>>  Password: 7603825 of the Best Adult Sites on the Internet for FREE!\\r\\n---------------------------------------\\r\\nNEWS 08/18/02\\r\\nWith just over 2.9 Million Members that signed up for FREE, Last month there were 721,184 New\\r\\nMembers. Are you one of them yet???\\r\\n---------------------------------------\\r\\nOur Membership FAQQ. Why are you offering free access to 5 adult membership sites for free?\\r\\nA. I have advertisers that pay me for ad space so you don't have to pay for membership.Q. Is it true my membership is for life?\\r\\nA. Absolutely you'll never have to pay a cent the advertisers do.Q. Can I give my account to my friends and family?\\r\\nA. Yes, as long they are over the age of 18.Q. Do I have to sign up for all 5 membership sites?\\r\\nA. No just one to get access to all of them.Q. How do I get started?\\r\\nA. Click on one of the following links below to become a member.- These are multi million dollar operations with policies and rules.\\r\\n- Fill in the required info and they won't charge you for the Free pass!\\r\\n- If you don't believe us, just read their terms and conditions.---------------------------# 5. > Adults Farm\\r\\nhttp://80.71.66.8/farm/?aid=760382\\r\\nGirls and Animals Getting Freaky....FREE Lifetime Membership!!# 4. > Sexy Celebes\\r\\nhttp://80.71.66.8/celebst/?aid=760382\\r\\nThousands Of XXX Celebes doing it...FREE Lifetime Membership!!# 3. > Play House Porn\\r\\nhttp://80.71.66.8/mega/?aid=760382\\r\\nLive Feeds From 60 Sites And Web Cams...FREE Lifetime Membership!!# 2. > Asian Sex Fantasies\\r\\nhttp://80.71.66.8/asian/?aid=760382\\r\\nJapanese Schoolgirls, Live Sex Shows ...FREE Lifetime Membership!!# 1. > Lesbian Lace\\r\\nhttp://80.71.66.8/lesbian/?aid=760382\\r\\nGirls and Girls Getting Freaky! ...FREE Lifetime Membership!!--------------------------Jennifer Simpson, Miami, FL\\r\\nYour FREE lifetime membership has entertained my boyffriend and I for\\r\\nthe last two years!  Your Adult Sites are the best on the net!Joe Morgan Manhattan, NY\\r\\nYour live sex shows and live sex cams are unbelievable. The best part\\r\\nabout your porn sites, is that they're absolutely FREE!--------------------------Removal Instructions:You have received this advertisement because you have opted in to receive free adult internet\\r\\noffers and specials through our affiliated websites. If you do not wish to receive further emails\\r\\nor have received the email in error you may opt-out of our database here\\r\\nhttp://80.71.66.8/optout/ . Please allow 24 hours for removal.vonolmosatkirekpups\""
      ]
     },
     "execution_count": 620,
     "metadata": {},
     "output_type": "execute_result"
    }
   ],
   "source": [
    "email_df['Body'].iloc[3]"
   ]
  },
  {
   "attachments": {},
   "cell_type": "markdown",
   "metadata": {},
   "source": [
    "- Remove special characters"
   ]
  },
  {
   "cell_type": "code",
   "execution_count": 621,
   "metadata": {},
   "outputs": [],
   "source": [
    "email_df['Label'].value_counts()\n",
    "email_df['Body'] = email_df['Body'].str.lower()\n",
    "#email_df['Body'] = email_df['Body'].str.replace(r'[^a-zA-Z]', '', regex=True)"
   ]
  },
  {
   "cell_type": "code",
   "execution_count": 622,
   "metadata": {},
   "outputs": [],
   "source": [
    "vectorizer = CountVectorizer()"
   ]
  },
  {
   "cell_type": "code",
   "execution_count": 623,
   "metadata": {},
   "outputs": [],
   "source": [
    "spam = email_df[email_df['Label'] == 1]\n",
    "spam = spam['Body'].tolist()\n",
    "\n",
    "ham = email_df[email_df['Label'] == 0]\n",
    "ham = ham['Body'].tolist()"
   ]
  },
  {
   "cell_type": "code",
   "execution_count": 624,
   "metadata": {},
   "outputs": [
    {
     "data": {
      "text/html": [
       "<div>\n",
       "<style scoped>\n",
       "    .dataframe tbody tr th:only-of-type {\n",
       "        vertical-align: middle;\n",
       "    }\n",
       "\n",
       "    .dataframe tbody tr th {\n",
       "        vertical-align: top;\n",
       "    }\n",
       "\n",
       "    .dataframe thead th {\n",
       "        text-align: right;\n",
       "    }\n",
       "</style>\n",
       "<table border=\"1\" class=\"dataframe\">\n",
       "  <thead>\n",
       "    <tr style=\"text-align: right;\">\n",
       "      <th></th>\n",
       "      <th>index</th>\n",
       "      <th>counts</th>\n",
       "    </tr>\n",
       "  </thead>\n",
       "  <tbody>\n",
       "    <tr>\n",
       "      <th>0</th>\n",
       "      <td>save</td>\n",
       "      <td>21812</td>\n",
       "    </tr>\n",
       "    <tr>\n",
       "      <th>1</th>\n",
       "      <td>up</td>\n",
       "      <td>25152</td>\n",
       "    </tr>\n",
       "    <tr>\n",
       "      <th>2</th>\n",
       "      <td>to</td>\n",
       "      <td>24307</td>\n",
       "    </tr>\n",
       "    <tr>\n",
       "      <th>3</th>\n",
       "      <td>70</td>\n",
       "      <td>2646</td>\n",
       "    </tr>\n",
       "    <tr>\n",
       "      <th>4</th>\n",
       "      <td>on</td>\n",
       "      <td>18194</td>\n",
       "    </tr>\n",
       "  </tbody>\n",
       "</table>\n",
       "</div>"
      ],
      "text/plain": [
       "  index  counts\n",
       "0  save   21812\n",
       "1    up   25152\n",
       "2    to   24307\n",
       "3    70    2646\n",
       "4    on   18194"
      ]
     },
     "execution_count": 624,
     "metadata": {},
     "output_type": "execute_result"
    }
   ],
   "source": [
    "vectorizer = vectorizer.fit(spam)\n",
    "vocab_series = pd.Series(vectorizer.vocabulary_)\n",
    "\n",
    "vocab_series = vocab_series.reset_index(name='counts')\n",
    "vocab_series[vocab_series['index'] != r'[^a-zA-Z]'].head(5)"
   ]
  },
  {
   "cell_type": "code",
   "execution_count": 625,
   "metadata": {},
   "outputs": [],
   "source": [
    "X = vectorizer.transform(email_df['Body'])\n",
    "y = email_df['Label']\n",
    "X_test, X_train, y_test, y_train = train_test_split(X, y, test_size = 0.2, train_size= 0.8)"
   ]
  },
  {
   "cell_type": "code",
   "execution_count": 626,
   "metadata": {},
   "outputs": [],
   "source": [
    "svm = SVC()\n",
    "\n",
    "param_grid = {\n",
    "    'C': [0.1, 1, 10, 100],\n",
    "    'gamma': [0.001, 0.01, 0.1, 1]\n",
    "}\n",
    "grid_search = GridSearchCV(estimator=svm, param_grid=param_grid, cv=5)\n",
    "\n",
    "best_svm = SVC(C=grid_search.best_params_['C'],\n",
    "               gamma=grid_search.best_params_['gamma'])\n",
    "               \n",
    "best_svm.fit(X_train, y_train)\n",
    "\n",
    "y_pred = best_svm.predict(X_test)\n",
    "confusion_matrix = confusion_matrix(y_test, y_pred)"
   ]
  },
  {
   "cell_type": "code",
   "execution_count": 627,
   "metadata": {},
   "outputs": [
    {
     "data": {
      "text/plain": [
       "array([[3107,  211],\n",
       "       [ 141, 1377]], dtype=int64)"
      ]
     },
     "execution_count": 627,
     "metadata": {},
     "output_type": "execute_result"
    }
   ],
   "source": [
    "confusion_matrix"
   ]
  },
  {
   "attachments": {},
   "cell_type": "markdown",
   "metadata": {},
   "source": [
    "- 3107 True positve\n",
    "- 1377 True negative\n",
    "- 141 False negative\n",
    "- 211 False positve\n",
    "\n",
    "- Overall does a pretty decent job at detecting whether or not an email is spam"
   ]
  },
  {
   "cell_type": "code",
   "execution_count": 628,
   "metadata": {},
   "outputs": [
    {
     "name": "stdout",
     "output_type": "stream",
     "text": [
      "accuracy: 0.9272125723738627, precision: 0.8671284634760705, recall: 0.9071146245059288\n"
     ]
    }
   ],
   "source": [
    "accuracy = accuracy_score(y_test, y_pred)\n",
    "precision = precision_score(y_test, y_pred)\n",
    "recall = recall_score(y_test, y_pred)\n",
    "\n",
    "print(f'accuracy: {accuracy}, precision: {precision}, recall: {recall}')"
   ]
  }
 ],
 "metadata": {
  "kernelspec": {
   "display_name": "Python 3",
   "language": "python",
   "name": "python3"
  },
  "language_info": {
   "codemirror_mode": {
    "name": "ipython",
    "version": 3
   },
   "file_extension": ".py",
   "mimetype": "text/x-python",
   "name": "python",
   "nbconvert_exporter": "python",
   "pygments_lexer": "ipython3",
   "version": "3.8.10 (tags/v3.8.10:3d8993a, May  3 2021, 11:48:03) [MSC v.1928 64 bit (AMD64)]"
  },
  "orig_nbformat": 4,
  "vscode": {
   "interpreter": {
    "hash": "c6a8e9732542bf92b08016575888d639dd06fd42d52308836eb02cb7310b3dc8"
   }
  }
 },
 "nbformat": 4,
 "nbformat_minor": 2
}
